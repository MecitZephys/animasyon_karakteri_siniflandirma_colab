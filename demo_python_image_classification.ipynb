{
  "nbformat": 4,
  "nbformat_minor": 0,
  "metadata": {
    "colab": {
      "provenance": []
    },
    "kernelspec": {
      "display_name": "Python 2",
      "language": "python",
      "name": "python2"
    },
    "accelerator": "GPU"
  },
  "cells": [
    {
      "cell_type": "code",
      "source": [
        "# prompt: drive ı bağla\n",
        "\n",
        "from google.colab import drive\n",
        "drive.mount('/content/drive')\n"
      ],
      "metadata": {
        "colab": {
          "base_uri": "https://localhost:8080/"
        },
        "id": "Dt9rwwJ2DkW7",
        "outputId": "2d4b0949-f060-4339-ee4c-582a86eb8f87"
      },
      "execution_count": 2,
      "outputs": [
        {
          "output_type": "stream",
          "name": "stdout",
          "text": [
            "Mounted at /content/drive\n"
          ]
        }
      ]
    },
    {
      "cell_type": "code",
      "source": [
        "# prompt: MyDrive'ı kullanarak val ve train klasörleri ile CNN sınıflandırma yap\n",
        "\n",
        "import os\n",
        "import shutil\n",
        "\n",
        "# Define the paths for the validation and training datasets\n",
        "val_dir = \"/content/drive/MyDrive/val\"\n",
        "train_dir = \"/content/drive/MyDrive/train\"\n",
        "\n",
        "# Create the validation and training directories if they don't exist\n",
        "os.makedirs(val_dir, exist_ok=True)\n",
        "os.makedirs(train_dir, exist_ok=True)\n",
        "\n",
        "# Get a list of all files in the \"MyDrive\" directory\n",
        "files = os.listdir(\"/content/drive/MyDrive\")\n",
        "\n",
        "# Iterate through the files and move them to the appropriate directory\n",
        "for file in files:\n",
        "  if file.endswith(\".jpg\"):\n",
        "    if \"val\" in file:\n",
        "      shutil.move(os.path.join(\"/content/drive/MyDrive\", file), os.path.join(val_dir, file))\n",
        "    else:\n",
        "      shutil.move(os.path.join(\"/content/drive/MyDrive\", file), os.path.join(train_dir, file))\n",
        "\n",
        "# Import the necessary libraries\n",
        "import tensorflow as tf\n",
        "from tensorflow.keras.preprocessing.image import ImageDataGenerator\n",
        "\n",
        "# Define the image size and batch size\n",
        "image_size = (224, 224)\n",
        "batch_size = 32\n",
        "\n",
        "# Create an image data generator for the training data\n",
        "train_datagen = ImageDataGenerator(\n",
        "    rescale=1./255,\n",
        "    shear_range=0.2,\n",
        "    zoom_range=0.2,\n",
        "    horizontal_flip=True\n",
        ")\n",
        "\n",
        "# Create an image data generator for the validation data\n",
        "val_datagen = ImageDataGenerator(rescale=1./255)\n",
        "\n",
        "# Load the training and validation data\n",
        "train_generator = train_datagen.flow_from_directory(\n",
        "    train_dir,\n",
        "    target_size=image_size,\n",
        "    batch_size=batch_size,\n",
        "    class_mode=\"binary\"\n",
        ")\n",
        "val_generator = val_datagen.flow_from_directory(\n",
        "    val_dir,\n",
        "    target_size=image_size,\n",
        "    batch_size=batch_size,\n",
        "    class_mode=\"binary\"\n",
        ")\n",
        "\n",
        "# Define the CNN model\n",
        "model = tf.keras.models.Sequential([\n",
        "    tf.keras.layers.Conv2D(32, (3, 3), activation=\"relu\", input_shape=(224, 224, 3)),\n",
        "    tf.keras.layers.MaxPooling2D((2, 2)),\n",
        "    tf.keras.layers.Conv2D(64, (3, 3), activation=\"relu\"),\n",
        "    tf.keras.layers.MaxPooling2D((2, 2)),\n",
        "    tf.keras.layers.Conv2D(128, (3, 3), activation=\"relu\"),\n",
        "    tf.keras.layers.MaxPooling2D((2, 2)),\n",
        "    tf.keras.layers.Flatten(),\n",
        "    tf.keras.layers.Dense(128, activation=\"relu\"),\n",
        "    tf.keras.layers.Dense(1, activation=\"sigmoid\")\n",
        "])\n",
        "\n",
        "# Compile the model\n",
        "model.compile(loss=\"binary_crossentropy\", optimizer=\"adam\", metrics=[\"accuracy\"])\n",
        "\n",
        "# Train the model\n",
        "model.fit(\n",
        "    train_generator,\n",
        "    epochs=10,\n",
        "    validation_data=val_generator\n",
        ")\n",
        "\n",
        "# Save the model\n",
        "model.save(\"my_model.h5\")\n"
      ],
      "metadata": {
        "colab": {
          "base_uri": "https://localhost:8080/"
        },
        "id": "LRrUQM5oD2ME",
        "outputId": "df5949b8-5eb0-46eb-cd5b-c15e56ae6847"
      },
      "execution_count": 4,
      "outputs": [
        {
          "output_type": "stream",
          "name": "stdout",
          "text": [
            "Found 199 images belonging to 2 classes.\n",
            "Found 0 images belonging to 2 classes.\n",
            "Epoch 1/10\n",
            "7/7 [==============================] - 58s 6s/step - loss: 1.4999 - accuracy: 0.4774\n",
            "Epoch 2/10\n",
            "7/7 [==============================] - 3s 462ms/step - loss: 0.5734 - accuracy: 0.6080\n",
            "Epoch 3/10\n",
            "7/7 [==============================] - 4s 507ms/step - loss: 0.4724 - accuracy: 0.8342\n",
            "Epoch 4/10\n",
            "7/7 [==============================] - 4s 605ms/step - loss: 0.3179 - accuracy: 0.8693\n",
            "Epoch 5/10\n",
            "7/7 [==============================] - 3s 472ms/step - loss: 0.2476 - accuracy: 0.8945\n",
            "Epoch 6/10\n",
            "7/7 [==============================] - 3s 471ms/step - loss: 0.2338 - accuracy: 0.8995\n",
            "Epoch 7/10\n",
            "7/7 [==============================] - 5s 661ms/step - loss: 0.1377 - accuracy: 0.9397\n",
            "Epoch 8/10\n",
            "7/7 [==============================] - 3s 467ms/step - loss: 0.1635 - accuracy: 0.9447\n",
            "Epoch 9/10\n",
            "7/7 [==============================] - 3s 477ms/step - loss: 0.1365 - accuracy: 0.9447\n",
            "Epoch 10/10\n",
            "7/7 [==============================] - 5s 690ms/step - loss: 0.1108 - accuracy: 0.9598\n"
          ]
        },
        {
          "output_type": "stream",
          "name": "stderr",
          "text": [
            "/usr/local/lib/python3.10/dist-packages/keras/src/engine/training.py:3103: UserWarning: You are saving your model as an HDF5 file via `model.save()`. This file format is considered legacy. We recommend using instead the native Keras format, e.g. `model.save('my_model.keras')`.\n",
            "  saving_api.save_model(\n"
          ]
        }
      ]
    }
  ]
}